{
 "cells": [
  {
   "cell_type": "code",
   "execution_count": 1,
   "id": "96fd7ac0-2a8f-47e4-8356-92079ee76ff9",
   "metadata": {},
   "outputs": [],
   "source": [
    "import numpy as np\n",
    "from pyqpanda import *\n",
    "from sklearn.linear_model import Ridge\n",
    "import matplotlib.pyplot as plt"
   ]
  },
  {
   "cell_type": "code",
   "execution_count": 2,
   "id": "e319f9c8-184c-407d-b1af-3333fdd479a8",
   "metadata": {},
   "outputs": [],
   "source": [
    "    p1 = 0.5*np.pi\n",
    "    p2 = 0.5*np.pi\n",
    "    p3 = 0.5*np.pi\n",
    "    p4 = 0.5*np.pi\n",
    "    p5 = 0.5*np.pi\n",
    "    p6 = 0.5*np.pi\n",
    "    p7 = 0.5*np.pi\n",
    "    p8 = 0.5*np.pi"
   ]
  },
  {
   "cell_type": "code",
   "execution_count": 3,
   "id": "04a54b4c-097d-46e0-bd4d-69356269876e",
   "metadata": {},
   "outputs": [
    {
     "name": "stdout",
     "output_type": "stream",
     "text": [
      "[0.0001704, 0.0001718, 0.0001723, 0.0001725, 0.0001727, 0.0001732, 0.0001738, 0.0001742, 0.0001743, 0.0001749, 0.0001756, 0.0001764, 0.0001773, 0.0001773, 0.0001777, 0.0001779, 0.000178, 0.0001785, 0.0001786, 0.0001789, 0.0001792, 0.0001795, 0.0001797, 0.0001798, 0.0001798, 0.0001798, 0.0001801, 0.0001803, 0.0001804, 0.0001804, 0.0001805, 0.0001808, 0.0001808, 0.0001813, 0.0001814, 0.0001818, 0.0001819, 0.0001819, 0.0001819, 0.000182, 0.000182, 0.0001821, 0.0001822, 0.0001827, 0.0001827, 0.0001828, 0.0001835, 0.0001838, 0.0001839, 0.000184, 0.000184, 0.0001849, 0.0001852, 0.0001853, 0.0001854, 0.0001856, 0.0001861, 0.0001863, 0.000187, 0.0001881, 0.0001882, 0.0001915, 0.0001925, 0.0001933, 0.0020845, 0.002085, 0.0020851, 0.0020854, 0.0020862, 0.0020873, 0.0020876, 0.0020884, 0.00209, 0.0020902, 0.0020902, 0.0020906, 0.0020911, 0.0020923, 0.0020924, 0.0020925, 0.0020927, 0.0020932, 0.0020933, 0.0020946, 0.0020949, 0.0020952, 0.0020958, 0.0020959, 0.0020963, 0.0020968, 0.0020971, 0.0020972, 0.0020973, 0.0020979, 0.0020985, 0.0020985, 0.002099, 0.0021, 0.0021002, 0.0021023, 0.0021028, 0.002103, 0.0021045, 0.0021059, 0.0021076, 0.0021077, 0.0021078, 0.0021095, 0.0021097, 0.0021107, 0.0021109, 0.0021109, 0.0021135, 0.0021137, 0.0021145, 0.0021145, 0.002115, 0.0021156, 0.002117, 0.0021176, 0.002118, 0.0021182, 0.0021198, 0.00212, 0.0021221, 0.0021236, 0.0021257, 0.0021283, 0.0021307, 0.0021415, 0.0021424, 0.0021425, 0.0021438, 0.0021461, 0.0021462, 0.0021471, 0.0021474, 0.0021478, 0.0021482, 0.0021487, 0.0021508, 0.0021534, 0.0021546, 0.0021578, 0.0021578, 0.0021579, 0.002158, 0.0021591, 0.0021594, 0.0021594, 0.0021623, 0.0021623, 0.0021627, 0.0021674, 0.0021684, 0.0021687, 0.0021777, 0.0021788, 0.002182, 0.0021936, 0.0040433, 0.0040436, 0.0040546, 0.0040551, 0.0040561, 0.0040601, 0.0040632, 0.0040645, 0.0040669, 0.0040675, 0.0040714, 0.0040717, 0.0040719, 0.004074, 0.0040761, 0.0040807, 0.0040826, 0.0040834, 0.0040834, 0.0040838, 0.0040845, 0.0040872, 0.0040876, 0.0040882, 0.0040897, 0.0040922, 0.0041, 0.0041029, 0.0041034, 0.0041048, 0.0041116, 0.0041185, 0.0092008, 0.0092164, 0.0092189, 0.0092449, 0.0092486, 0.0092536, 0.0092558, 0.0092595, 0.0092596, 0.0092613, 0.0092622, 0.0092633, 0.0092636, 0.0092664, 0.0092668, 0.0092677, 0.0092693, 0.0092713, 0.0092714, 0.0092723, 0.0092742, 0.0092744, 0.0092755, 0.0092809, 0.0092813, 0.0092816, 0.0092839, 0.0092879, 0.0092886, 0.0093012, 0.0093055, 0.009312, 0.011119, 0.0111211, 0.0111336, 0.0111458, 0.0111488, 0.0111519, 0.0111529, 0.0111529, 0.0111557, 0.011158, 0.0111584, 0.0111655, 0.0111662, 0.0111683, 0.0111702, 0.0111708, 0.0111797, 0.0111845, 0.011185, 0.0111861, 0.0111877, 0.0111899, 0.0112, 0.0112087, 0.0112099, 0.0112102, 0.0112142, 0.0112142, 0.0112219, 0.0112354, 0.0112561, 0.0112714]\n"
     ]
    }
   ],
   "source": [
    "n = 0\n",
    "if __name__ == \"__main__\":\n",
    "    qvm = CPUQVM()\n",
    "    qvm.init_qvm()\n",
    "    n_qubits = 8\n",
    "    n_cbits = 8\n",
    "    theta_x = 1\n",
    "    theta_y = 1\n",
    "    theta_z = 1\n",
    "\n",
    "    # 分配量子比特和经典比特\n",
    "    qubits = qvm.qAlloc_many(n_qubits)\n",
    "    cbits = qvm.cAlloc_many(n_cbits)\n",
    "    shots = 10000000\n",
    "    # 构建量子程序\n",
    "    prog = QProg()\n",
    "    circuit = QCircuit()\n",
    "    circuit << RY(qubits[0], p1) \n",
    "    circuit << CNOT(qubits[0], qubits[1]) \n",
    "    circuit << RY(qubits[1], p2) \n",
    "    circuit << CNOT(qubits[1], qubits[2]) \n",
    "    circuit << RY(qubits[2], p3) \n",
    "    circuit << CNOT(qubits[2], qubits[3])\n",
    "    circuit << RY(qubits[3], p4)\n",
    "    circuit << CNOT(qubits[3], qubits[4])\n",
    "    circuit << RY(qubits[4], p5)\n",
    "    circuit << CNOT(qubits[4], qubits[5])\n",
    "    circuit << RY(qubits[5], p6)\n",
    "    circuit << CNOT(qubits[5], qubits[6])\n",
    "    circuit << RY(qubits[6], p7)\n",
    "    circuit << CNOT(qubits[6], qubits[7])\n",
    "    circuit << RY(qubits[7], p8)\n",
    "    circuit << CNOT(qubits[7], qubits[0])\n",
    "    circuit << CNOT(qubits[7], qubits[0])\n",
    "    circuit << RY(qubits[0], theta_x) \n",
    "    circuit << CNOT(qubits[0], qubits[1]) \n",
    "    circuit << RY(qubits[1], theta_y) \n",
    "    circuit << CNOT(qubits[1], qubits[2]) \n",
    "    circuit << RY(qubits[2], theta_z)\n",
    "    circuit << CNOT(qubits[2], qubits[3])\n",
    "    circuit << CNOT(qubits[3], qubits[4])\n",
    "    circuit << CNOT(qubits[4], qubits[5])\n",
    "    circuit << CNOT(qubits[5], qubits[6])\n",
    "    circuit << CNOT(qubits[6], qubits[7])\n",
    "    circuit << CNOT(qubits[7], qubits[0]) \n",
    "    #circuit << 参数\\beta\n",
    "    prog << circuit << measure_all(qubits, cbits)\n",
    "    # 运行多次量子程序，并返回测量结果\n",
    "    result = qvm.run_with_configuration(prog, cbits, shots)\n",
    "    #result2 = qvm.prob_run_dict(prog, qubits, -1)\n",
    "    # 打印测量结果\n",
    "    # 计算概率分布\n",
    "    total = shots\n",
    "    probabilities = {\n",
    "    state: round(count / total, 7)\n",
    "    for state, count in result.items()\n",
    "    }\n",
    "\n",
    "    sorted_values = sorted(probabilities.values())\n",
    "    print(sorted_values)\n",
    "\n",
    "    qvm.finalize()\n"
   ]
  },
  {
   "cell_type": "code",
   "execution_count": null,
   "id": "b2936c78-6228-4406-a8d7-0be34960a053",
   "metadata": {
    "editable": true,
    "slideshow": {
     "slide_type": ""
    },
    "tags": []
   },
   "outputs": [],
   "source": []
  }
 ],
 "metadata": {
  "kernelspec": {
   "display_name": "QRC",
   "language": "python",
   "name": "python3"
  },
  "language_info": {
   "codemirror_mode": {
    "name": "ipython",
    "version": 3
   },
   "file_extension": ".py",
   "mimetype": "text/x-python",
   "name": "python",
   "nbconvert_exporter": "python",
   "pygments_lexer": "ipython3",
   "version": "3.10.16"
  }
 },
 "nbformat": 4,
 "nbformat_minor": 5
}
