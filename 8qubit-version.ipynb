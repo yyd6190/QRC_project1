{
 "cells": [
  {
   "cell_type": "code",
   "execution_count": null,
   "id": "96fd7ac0-2a8f-47e4-8356-92079ee76ff9",
   "metadata": {},
   "outputs": [],
   "source": [
    "import numpy as np\n",
    "from pyqpanda import *\n",
    "from sklearn.linear_model import Ridge\n",
    "import matplotlib.pyplot as plt"
   ]
  },
  {
   "cell_type": "code",
   "execution_count": null,
   "id": "e319f9c8-184c-407d-b1af-3333fdd479a8",
   "metadata": {},
   "outputs": [],
   "source": [
    "    p1 = 0.5*np.pi\n",
    "    p2 = 0.5*np.pi\n",
    "    p3 = 0.5*np.pi\n",
    "    p4 = 0.5*np.pi\n",
    "    p5 = 0.5*np.pi\n",
    "    p6 = 0.5*np.pi\n",
    "    p7 = 0.5*np.pi\n",
    "    p8 = 0.5*np.pi"
   ]
  },
  {
   "cell_type": "code",
   "execution_count": null,
   "id": "04a54b4c-097d-46e0-bd4d-69356269876e",
   "metadata": {},
   "outputs": [],
   "source": [
    "n = 0\n",
    "if __name__ == \"__main__\":\n",
    "    qvm = CPUQVM()\n",
    "    qvm.init_qvm()\n",
    "    n_qubits = 8\n",
    "    n_cbits = 8\n",
    "    theta_x = 1\n",
    "    theta_y = 1\n",
    "    theta_z = 1\n",
    "\n",
    "    # 分配量子比特和经典比特\n",
    "    qubits = qvm.qAlloc_many(n_qubits)\n",
    "    cbits = qvm.cAlloc_many(n_cbits)\n",
    "    shots = 10000000\n",
    "    # 构建量子程序\n",
    "    prog = QProg()\n",
    "    circuit = QCircuit()\n",
    "    circuit << RY(qubits[0], p1) \n",
    "    circuit << CNOT(qubits[0], qubits[1]) \n",
    "    circuit << RY(qubits[1], p2) \n",
    "    circuit << CNOT(qubits[1], qubits[2]) \n",
    "    circuit << RY(qubits[2], p3) \n",
    "    circuit << CNOT(qubits[2], qubits[3])\n",
    "    circuit << RY(qubits[3], p4)\n",
    "    circuit << CNOT(qubits[3], qubits[4])\n",
    "    circuit << RY(qubits[4], p5)\n",
    "    circuit << CNOT(qubits[4], qubits[5])\n",
    "    circuit << RY(qubits[5], p6)\n",
    "    circuit << CNOT(qubits[5], qubits[6])\n",
    "    circuit << RY(qubits[6], p7)\n",
    "    circuit << CNOT(qubits[6], qubits[7])\n",
    "    circuit << RY(qubits[7], p8)\n",
    "    circuit << CNOT(qubits[7], qubits[0])\n",
    "    circuit << CNOT(qubits[7], qubits[0])\n",
    "    circuit << RY(qubits[0], theta_x) \n",
    "    circuit << CNOT(qubits[0], qubits[1]) \n",
    "    circuit << RY(qubits[1], theta_y) \n",
    "    circuit << CNOT(qubits[1], qubits[2]) \n",
    "    circuit << RY(qubits[2], theta_z)\n",
    "    circuit << CNOT(qubits[2], qubits[3])\n",
    "    circuit << CNOT(qubits[3], qubits[4])\n",
    "    circuit << CNOT(qubits[4], qubits[5])\n",
    "    circuit << CNOT(qubits[5], qubits[6])\n",
    "    circuit << CNOT(qubits[6], qubits[7])\n",
    "    circuit << CNOT(qubits[7], qubits[0]) \n",
    "    #circuit << 参数\\beta\n",
    "    prog << circuit << measure_all(qubits, cbits)\n",
    "    # 运行多次量子程序，并返回测量结果\n",
    "    result = qvm.run_with_configuration(prog, cbits, shots)\n",
    "    #result2 = qvm.prob_run_dict(prog, qubits, -1)\n",
    "    # 打印测量结果\n",
    "    # 计算概率分布\n",
    "    total = shots\n",
    "    probabilities = {\n",
    "    state: round(count / total, 7)\n",
    "    for state, count in result.items()\n",
    "    }\n",
    "\n",
    "    sorted_values = sorted(probabilities.values())\n",
    "    print(sorted_values)\n",
    "\n",
    "    qvm.finalize()\n"
   ]
  },
  {
   "cell_type": "code",
   "execution_count": null,
   "id": "b2936c78-6228-4406-a8d7-0be34960a053",
   "metadata": {
    "editable": true,
    "slideshow": {
     "slide_type": ""
    },
    "tags": []
   },
   "outputs": [],
   "source": []
  }
 ],
 "metadata": {
  "kernelspec": {
   "display_name": "Python 3",
   "language": "python",
   "name": "python3"
  },
  "language_info": {
   "codemirror_mode": {
    "name": "ipython",
    "version": 3
   },
   "file_extension": ".py",
   "mimetype": "text/x-python",
   "name": "python",
   "nbconvert_exporter": "python",
   "pygments_lexer": "ipython3",
   "version": "3.9.6"
  }
 },
 "nbformat": 4,
 "nbformat_minor": 5
}
