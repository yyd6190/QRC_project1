{
 "cells": [
  {
   "cell_type": "code",
   "execution_count": null,
   "id": "dcf6ed89-e16c-46da-9fa3-ec114e62203a",
   "metadata": {
    "scrolled": true
   },
   "outputs": [],
   "source": [
    "import numpy as np\n",
    "import matplotlib.pyplot as plt\n",
    "from mpl_toolkits.mplot3d import Axes3D\n",
    "#%matplotlib widget\n",
    "\n",
    "def RK45(x, func, h):\n",
    "    \"\"\"四阶龙格-库塔积分器\"\"\"\n",
    "    K1 = func(x)\n",
    "    K2 = func(x + h/2*K1)\n",
    "    K3 = func(x + h/2*K2)\n",
    "    K4 = func(x + h*K3)\n",
    "    return x + h/6*(K1 + 2*K2 + 2*K3 + K4)\n",
    "\n",
    "def L63_rhs(x, sigma=10.0, rho=28.0, beta=8/3):\n",
    "    \"\"\"定义Lorenz 63微分方程\"\"\"\n",
    "    dx = np.zeros(3)\n",
    "    dx[0] = sigma * (x[1] - x[0])\n",
    "    dx[1] = rho*x[0] - x[1] - x[0]*x[2]\n",
    "    dx[2] = x[0]*x[1] - beta*x[2]\n",
    "    return dx\n",
    "\n",
    "def integrate_lorenz63(x0, num_steps=5000, dt=0.01):\n",
    "    \"\"\"执行数值积分\"\"\"\n",
    "    trajectory = np.zeros((num_steps, 3))\n",
    "    trajectory[0] = x0\n",
    "    for t in range(1, num_steps):\n",
    "        trajectory[t] = RK45(trajectory[t-1], L63_rhs, dt)\n",
    "    return trajectory\n",
    "\n",
    "def normalize_trajectory(trajectory):\n",
    "    \"\"\"将轨迹归一化到[-1, 1]范围\"\"\"\n",
    "    # 计算每个坐标轴的极值\n",
    "    mins = np.min(traj, axis=0)\n",
    "    maxs = np.max(traj, axis=0)\n",
    "    \n",
    "    # 线性归一化公式：new = 2*(original - min)/(max - min) - 1\n",
    "    normalized = 2 * (traj - mins) / (maxs - mins) - 1\n",
    "    return normalized\n",
    "\n",
    "# 参数设置\n",
    "x0 = np.array([1.508870, -1.531271, 25.46091])  # 混沌初值\n",
    "traj = integrate_lorenz63(x0)\n",
    "\n",
    "# 应用归一化\n",
    "traj_normalized = normalize_trajectory(traj)\n",
    "\n",
    "# 绘制归一化后的轨迹\n",
    "fig = plt.figure(figsize=(10,6))\n",
    "ax = fig.add_subplot(111, projection='3d')\n",
    "ax.plot(traj_normalized[:,0], traj_normalized[:,1], traj_normalized[:,2], lw=0.5)\n",
    "ax.set_xlim([-1, 1])\n",
    "ax.set_ylim([-1, 1])\n",
    "ax.set_zlim([-1, 1])\n",
    "ax.set_xlabel(\"Normalized X\")\n",
    "ax.set_ylabel(\"Normalized Y\")\n",
    "ax.set_zlabel(\"Normalized Z\")\n",
    "plt.title(\"Normalized Lorenz 63 Attractor\")\n",
    "plt.show()\n",
    "\n",
    "\n",
    "\n",
    "# 输出前1000步归一化后的坐标\n",
    "#for t in range(1000):\n",
    "#    x_norm, y_norm, z_norm = traj_normalized[t]\n",
    "#    print(f\"Time Step {t}: x={x_norm:.6f}, y={y_norm:.6f}, z={z_norm:.6f}\")"
   ]
  },
  {
   "cell_type": "code",
   "execution_count": null,
   "id": "41b31ca9-37ca-437f-bf4b-2891c5e747da",
   "metadata": {},
   "outputs": [],
   "source": []
  },
  {
   "cell_type": "code",
   "execution_count": null,
   "id": "8a34f37a-e6af-4e15-8f0f-ae103fe585f7",
   "metadata": {},
   "outputs": [],
   "source": []
  },
  {
   "cell_type": "code",
   "execution_count": null,
   "id": "8e7062d1-fb32-409a-8c47-9ab10ebfd792",
   "metadata": {},
   "outputs": [],
   "source": []
  }
 ],
 "metadata": {
  "kernelspec": {
   "display_name": "QRC",
   "language": "python",
   "name": "python3"
  },
  "language_info": {
   "codemirror_mode": {
    "name": "ipython",
    "version": 3
   },
   "file_extension": ".py",
   "mimetype": "text/x-python",
   "name": "python",
   "nbconvert_exporter": "python",
   "pygments_lexer": "ipython3",
   "version": "3.10.16"
  }
 },
 "nbformat": 4,
 "nbformat_minor": 5
}
